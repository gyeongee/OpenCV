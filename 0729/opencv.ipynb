{
 "cells": [
  {
   "cell_type": "code",
   "execution_count": 2,
   "id": "853062f0-42a2-4a31-938c-9da21639e74a",
   "metadata": {},
   "outputs": [],
   "source": [
    "import cv2\n",
    "import numpy as np\n",
    "import matplotlib.pylab as plt"
   ]
  },
  {
   "cell_type": "code",
   "execution_count": 1,
   "id": "91169614-4f1d-4aaa-a5c2-719e54060efc",
   "metadata": {},
   "outputs": [
    {
     "ename": "NameError",
     "evalue": "name 'alpha' is not defined",
     "output_type": "error",
     "traceback": [
      "\u001b[1;31m---------------------------------------------------------------------------\u001b[0m",
      "\u001b[1;31mNameError\u001b[0m                                 Traceback (most recent call last)",
      "Cell \u001b[1;32mIn[1], line 18\u001b[0m\n\u001b[0;32m     16\u001b[0m img_res[:, :middle, :] \u001b[38;5;241m=\u001b[39m img_face[:, :middle, :]\u001b[38;5;241m.\u001b[39mcopy()\n\u001b[0;32m     17\u001b[0m img_res[:, middle:, :] \u001b[38;5;241m=\u001b[39m img_skull[:, middle:, :]\u001b[38;5;241m.\u001b[39mcopy()\n\u001b[1;32m---> 18\u001b[0m alpha \u001b[38;5;241m*\u001b[39m img1 \u001b[38;5;241m+\u001b[39m (\u001b[38;5;241m1\u001b[39m\u001b[38;5;241m-\u001b[39malpha) \u001b[38;5;241m*\u001b[39m img2\n\u001b[0;32m     19\u001b[0m \u001b[38;5;28;01mfor\u001b[39;00m i \u001b[38;5;129;01min\u001b[39;00m \u001b[38;5;28mrange\u001b[39m(alpha_width \u001b[38;5;241m+\u001b[39m \u001b[38;5;241m1\u001b[39m):\n\u001b[0;32m     20\u001b[0m     alpha \u001b[38;5;241m=\u001b[39m (\u001b[38;5;241m100\u001b[39m \u001b[38;5;241m-\u001b[39m step \u001b[38;5;241m*\u001b[39m i) \u001b[38;5;241m/\u001b[39m \u001b[38;5;241m100\u001b[39m   \u001b[38;5;66;03m# alpha 0~1로 조정하도록\u001b[39;00m\n",
      "\u001b[1;31mNameError\u001b[0m: name 'alpha' is not defined"
     ]
    }
   ],
   "source": [
    "import cv2\n",
    "import numpy as np\n",
    "import matplotlib.pylab as plt\n",
    "\n",
    "alpha_width_rate = 20\n",
    "\n",
    "img_face = cv2.imread('./img/man_face.jpg')\n",
    "img_skull = cv2.imread('./img/skull.jpg')\n",
    "\n",
    "img_res = np.zeros_like(img_face)\n",
    "height, width = img_face.shape[:2]\n",
    "middle = width // 2\n",
    "alpha_width = width * alpha_width_rate // 100\n",
    "start = middle - alpha_width//2\n",
    "step = 100/alpha_width\n",
    "img_res[:, :middle, :] = img_face[:, :middle, :].copy()\n",
    "img_res[:, middle:, :] = img_skull[:, middle:, :].copy()\n",
    "alpha * img1 + (1-alpha) * img2\n",
    "for i in range(alpha_width + 1):\n",
    "    alpha = (100 - step * i) / 100   # alpha 0~1로 조정하도록\n",
    "    beta = 1 - alpha\n",
    "    img_res[:, start + i] = img_face[:, start+i] * alpha + img_skull[:, start+i] * beta\n",
    "\n",
    "cv2.imshow('result', img_res)\n",
    "cv2.waitKey(0)\n",
    "cv2.destroyAllWindows()"
   ]
  },
  {
   "cell_type": "code",
   "execution_count": null,
   "id": "636422c3-7e35-4b86-8dff-ab64db94dd47",
   "metadata": {},
   "outputs": [],
   "source": [
    "img = cv2.imread()\n",
    "mapy, mapx = np.indices((rows,cols),dtype=np.float32)\n",
    "\n",
    "mapx = 2 * mapx /(cols-1)-1\n",
    "mapy = 2 * mapy / (rows-1)-1\n",
    "r, theta = cv2.carToPolar(mapx,mapy)\n",
    "\n",
    "# 방사왜곡변형연산\n",
    "ru = r *(1 + k1*(r**2) + k2*(r**4) + k3*(r**6))\n",
    "\n",
    "mapx,mapy = cv2.polarToCart(ru,theta)\n",
    "# 배럴왜곡\n",
    "k1,k2,k3 = 0.5,0.2,0.0\n",
    "ru = r*(1+k1*(r**2)+k2*(r**4)+k3*()r**6))\n",
    "\n",
    "cv2.imshow('original', img_res)\n",
    "cv2.waitKey(0)\n",
    "cv2.destroyAllWindows()"
   ]
  },
  {
   "cell_type": "code",
   "execution_count": 3,
   "id": "317ffde4-503b-4351-9803-ea45333799b5",
   "metadata": {},
   "outputs": [
    {
     "ename": "NameError",
     "evalue": "name 'win_title' is not defined",
     "output_type": "error",
     "traceback": [
      "\u001b[1;31m---------------------------------------------------------------------------\u001b[0m",
      "\u001b[1;31mNameError\u001b[0m                                 Traceback (most recent call last)",
      "Cell \u001b[1;32mIn[3], line 5\u001b[0m\n\u001b[0;32m      2\u001b[0m rate\u001b[38;5;241m=\u001b[39m\u001b[38;5;241m15\u001b[39m\n\u001b[0;32m      4\u001b[0m \u001b[38;5;28;01mwhile\u001b[39;00m \u001b[38;5;28;01mTrue\u001b[39;00m:\n\u001b[1;32m----> 5\u001b[0m     x,y,w,h \u001b[38;5;241m=\u001b[39m cv2\u001b[38;5;241m.\u001b[39mselectROI(win_title, img, \u001b[38;5;28;01mFalse\u001b[39;00m)\n\u001b[0;32m      6\u001b[0m     \u001b[38;5;28;01mif\u001b[39;00m w \u001b[38;5;129;01mand\u001b[39;00m h :\n\u001b[0;32m      7\u001b[0m         roi \u001b[38;5;241m=\u001b[39m img[y:y\u001b[38;5;241m+\u001b[39mh, x:x\u001b[38;5;241m+\u001b[39mw]\n",
      "\u001b[1;31mNameError\u001b[0m: name 'win_title' is not defined"
     ]
    }
   ],
   "source": [
    "img = cv2.imread('./img/taekwonv1.jpg')\n",
    "rate=15\n",
    "\n",
    "while True:\n",
    "    x,y,w,h = cv2.selectROI(win_title, img, False)\n",
    "    if w and h :\n",
    "        roi = img[y:y+h, x:x+w]\n",
    "        roi=cv2.resize(roi, (w//rate, h//rate))\n",
    "        roi = cv2.resize(roi,(w,h), interpolation =cv2.INTER_AREA)\n",
    "        img[y:y+h, x:x+w]=roi\n",
    "        cv2.imshow(with_title,img)\n",
    "    else:\n",
    "        break\n",
    "cv2.waitKey(0)\n",
    "cv2.destroyAllWindows()\n",
    "        \n",
    "        \n",
    "    "
   ]
  }
 ],
 "metadata": {
  "kernelspec": {
   "display_name": "Python 3 (ipykernel)",
   "language": "python",
   "name": "python3"
  },
  "language_info": {
   "codemirror_mode": {
    "name": "ipython",
    "version": 3
   },
   "file_extension": ".py",
   "mimetype": "text/x-python",
   "name": "python",
   "nbconvert_exporter": "python",
   "pygments_lexer": "ipython3",
   "version": "3.13.5"
  }
 },
 "nbformat": 4,
 "nbformat_minor": 5
}
